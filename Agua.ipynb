{
  "cells": [
    {
      "cell_type": "markdown",
      "metadata": {
        "id": "bS4AEZCoJgRp"
      },
      "source": [
        "**Get the environment properties**\n",
        "---"
      ]
    },
    {
      "cell_type": "code",
      "execution_count": 43,
      "metadata": {
        "colab": {
          "base_uri": "https://localhost:8080/"
        },
        "id": "ktwmsGyOJeYn",
        "outputId": "bf99bbf7-3c6f-443a-9168-9ec9099d1223"
      },
      "outputs": [
        {
          "output_type": "stream",
          "name": "stdout",
          "text": [
            "\t---Get distro and release information---\n",
            "No LSB modules are available.\n",
            "Distributor ID:\tUbuntu\n",
            "Description:\tUbuntu 18.04.6 LTS\n",
            "Release:\t18.04\n",
            "Codename:\tbionic\n",
            "\n",
            "\t---Get cpu properties---\n",
            "CPU(s):              2\n",
            "Thread(s) per core:  2\n",
            "Core(s) per socket:  1\n",
            "Socket(s):           1\n",
            "Model name:          Intel(R) Xeon(R) CPU @ 2.20GHz\n",
            "\n",
            "\t---Get available memory---\n",
            "              total        used        free      shared  buff/cache   available\n",
            "Mem:            12G        1.3G        8.9G        1.3M        2.5G         11G\n",
            "Swap:            0B          0B          0B\n",
            "\n",
            "\t---Get file system attributes---\n",
            "Filesystem      Size  Used Avail Use% Mounted on\n",
            "overlay         108G   25G   84G  23% /\n",
            "tmpfs            64M     0   64M   0% /dev\n",
            "shm             5.8G     0  5.8G   0% /dev/shm\n",
            "/dev/root       2.0G  1.1G  910M  54% /sbin/docker-init\n",
            "tmpfs           6.4G   72K  6.4G   1% /var/colab\n",
            "/dev/sda1        41G   27G   14G  67% /etc/hosts\n",
            "tmpfs           6.4G     0  6.4G   0% /proc/acpi\n",
            "tmpfs           6.4G     0  6.4G   0% /proc/scsi\n",
            "tmpfs           6.4G     0  6.4G   0% /sys/firmware\n"
          ]
        }
      ],
      "source": [
        "print(\"\\t---Get distro and release information---\")\n",
        "!lsb_release -a \n",
        "print(\"\\n\\t---Get cpu properties---\")\n",
        "!lscpu | grep -E '^Model name|^Thread|^Core|^Socket|^CPU\\('\n",
        "print(\"\\n\\t---Get available memory---\")\n",
        "!free -m -h \n",
        "print(\"\\n\\t---Get file system attributes---\")\n",
        "!df -h"
      ]
    },
    {
      "cell_type": "markdown",
      "metadata": {
        "id": "8cK83SZZLLpX"
      },
      "source": [
        "**Requirements installation**\n",
        "---"
      ]
    },
    {
      "cell_type": "code",
      "execution_count": 44,
      "metadata": {
        "colab": {
          "base_uri": "https://localhost:8080/"
        },
        "id": "6ZW9I9PYK7Zw",
        "outputId": "9c953c83-7721-4474-eff3-e8018eeff8a2"
      },
      "outputs": [
        {
          "output_type": "stream",
          "name": "stdout",
          "text": [
            "Java version: \n",
            "openjdk version \"11.0.16\" 2022-07-19\n",
            "OpenJDK Runtime Environment (build 11.0.16+8-post-Ubuntu-0ubuntu118.04)\n",
            "OpenJDK 64-Bit Server VM (build 11.0.16+8-post-Ubuntu-0ubuntu118.04, mixed mode, sharing)\n"
          ]
        }
      ],
      "source": [
        "!apt-get install openjdk-11-jdk-headless -qq > /dev/null\n",
        "!wget -q https://archive.apache.org/dist/spark/spark-3.2.2/spark-3.2.2-bin-hadoop3.2.tgz\n",
        "!tar xf spark-3.2.2-bin-hadoop3.2.tgz\n",
        "!pip -qq install findspark\n",
        "print(\"Java version: \")\n",
        "!java -version\n",
        "import os\n",
        "os.environ[\"JAVA_HOME\"] = \"/usr/lib/jvm/java-11-openjdk-amd64\"\n",
        "os.environ[\"SPARK_HOME\"] = \"/content/spark-3.2.2-bin-hadoop3.2\"\n",
        "!pip -qq install pyspark\n",
        "!pip -qq install geopandas attrs shapely rtree apache-sedona[spark]\n"
      ]
    },
    {
      "cell_type": "markdown",
      "metadata": {
        "id": "80ovQA9-PSDT"
      },
      "source": [
        "**Get data from drive**\n",
        "---"
      ]
    },
    {
      "cell_type": "code",
      "execution_count": 45,
      "metadata": {
        "colab": {
          "base_uri": "https://localhost:8080/"
        },
        "id": "NVz7RO6lLh61",
        "outputId": "0d3d5749-32a7-47c5-a260-b774d86495ce"
      },
      "outputs": [
        {
          "output_type": "stream",
          "name": "stdout",
          "text": [
            "Downloading...\n",
            "From: https://drive.google.com/uc?id=1XqsRpUJJ_Q6wQ-tr4d5QKwGqmP5LLXFh\n",
            "To: /content/data.zip\n",
            "\r  0% 0.00/3.20M [00:00<?, ?B/s]\r100% 3.20M/3.20M [00:00<00:00, 118MB/s]\n",
            "Archive:  data.zip\n",
            "  inflating: data/CottonYield_1980-2020.csv  \n",
            "  inflating: data/SurfaceWaterQuality.csv  \n",
            "  inflating: data/toxicityData/chihuahua_data.csv  \n",
            "  inflating: data/toxicityData/chihuahua_site.csv  \n",
            "  inflating: data/toxicityData/coahuila_data.csv  \n",
            "  inflating: data/toxicityData/coahuila_site.csv  \n",
            "  inflating: data/toxicityData/durango_data.csv  \n",
            "  inflating: data/toxicityData/durango_site.csv  \n",
            "  inflating: data/toxicityData/nuevoleon_data.csv  \n",
            "  inflating: data/toxicityData/nuevoleon_sites.csv  \n",
            "  inflating: data/toxicityData/simbology.csv  \n",
            "  inflating: data/toxicityData/sinaloa_data.csv  \n",
            "  inflating: data/toxicityData/sinaloa_site.csv  \n",
            "  inflating: data/toxicityData/sonora_data.csv  \n",
            "  inflating: data/toxicityData/sonora_site.csv  \n",
            "  inflating: data/toxicityData/tamaulipas_data.csv  \n",
            "  inflating: data/toxicityData/tamaulipas_site.csv  \n",
            "  inflating: data/UndergroundWaterQuality.csv  \n"
          ]
        }
      ],
      "source": [
        "#gets data from csv files in google and puts them in a data folder\n",
        "!gdown --fuzzy 'https://drive.google.com/file/d/1XqsRpUJJ_Q6wQ-tr4d5QKwGqmP5LLXFh/view?usp=sharing' -O /content/\n",
        "!unzip -o data.zip "
      ]
    },
    {
      "cell_type": "markdown",
      "metadata": {
        "id": "EGBcdoasUJjm"
      },
      "source": [
        "**Setup Apache Spark and Sedona**\n",
        "---"
      ]
    },
    {
      "cell_type": "code",
      "execution_count": 46,
      "metadata": {
        "colab": {
          "base_uri": "https://localhost:8080/"
        },
        "id": "FVHFqTj1UlKx",
        "outputId": "baa5d948-9231-41a8-e592-b8a1fb3418ca"
      },
      "outputs": [
        {
          "output_type": "execute_result",
          "data": {
            "text/plain": [
              "True"
            ]
          },
          "metadata": {},
          "execution_count": 46
        }
      ],
      "source": [
        "import findspark\n",
        "findspark.init()\n",
        "import shapely\n",
        "import pandas as pd \n",
        "import geopandas as gpd\n",
        "from pyspark.sql import SparkSession\n",
        "from pyspark import SparkContext\n",
        "from pyspark import SparkConf\n",
        "from sedona.register import SedonaRegistrator\n",
        "from sedona.utils import SedonaKryoRegistrator, KryoSerializer\n",
        "spark = SparkSession. \\\n",
        "builder. \\\n",
        "appName('GeoBigData'). \\\n",
        "config(\"spark.serializer\", KryoSerializer.getName). \\\n",
        "config(\"spark.executor.memory\", \"5g\"). \\\n",
        "config(\"spark.driver.memory\", \"10g\"). \\\n",
        "config('spark.driver.maxResultSize', '5g'). \\\n",
        "config(\"spark.kryo.registrator\", SedonaKryoRegistrator.getName). \\\n",
        "config('spark.jars.packages',\n",
        "           'org.apache.sedona:sedona-python-adapter-3.0_2.12:1.2.0-incubating,'\n",
        "           'org.datasyslab:geotools-wrapper:1.1.0-25.2'). \\\n",
        "getOrCreate()\n",
        "SedonaRegistrator.registerAll(spark)"
      ]
    },
    {
      "cell_type": "markdown",
      "metadata": {
        "id": "HjrrBukPU3DI"
      },
      "source": [
        "**Load DB**\n",
        "---"
      ]
    },
    {
      "cell_type": "markdown",
      "source": [
        "Load the csv files into databases with spark for later use"
      ],
      "metadata": {
        "id": "tCl-MsRibR_E"
      }
    },
    {
      "cell_type": "code",
      "execution_count": null,
      "metadata": {
        "colab": {
          "base_uri": "https://localhost:8080/"
        },
        "id": "OSqQT0TKUrN_",
        "outputId": "63798e5e-f907-4102-896f-deabc09e14de"
      },
      "outputs": [
        {
          "output_type": "stream",
          "name": "stdout",
          "text": [
            "+--------------+--------------------+--------------------+----------------------+---------+-------+-------+----+----+----+--------+--------+--------+------+----+-------+-------+-------+-------+-------+-----+-----+-----+-----+-----+------+-----------+---------------+---------------+-----------------+-----------------+----------------+-----------------+-----------------+----------------+-----------+-----------+----------+-----+-------+--------+---------+-------------+------+-----+------------+----------------+----------------+----------------+--------+------------+------------+------------+-------------+-------------+-------------+----+-------+--------+-----------+--------+-----------+--------+-----------+--------------+-------------------+-----------+--------------+-----------------+-------------------+------------+--------------+------+-------------+---------+------+------+-------+--------+-----------+----------------+-------+-----------+-----------+-----------------+------------+-----------+--------+-----------+------+-------------+-----+-----------------------+------+------+----+----+-------+----+------------+-----+------------+------------------+-------+------------------------+---------------+--------------------+---------+------+------+------+------+------+------+------+------+------+---------------+-------------------+-------------------+-------------------+------------+-----------+-----------+---------------+----------+------+----------+----------+----+----------+--------+--------------+------+------+-------+--------+---------+-------------+-------------+-------------+-------------+-----------+-----------+-----------+-----------+-----------+-----------+-----------+-----------+-----------+------------+------------+------------+------------+------------+------------+------------+------------+------------+------------+------------+------------+------------+------------+------------+------------+------------+------------+------------+------------+------------+------------+------------+------------+------------+------------+------------+------------+------------+------------+-----------+------+------------+-------------+-------+------+------+------+------+------+------+------+------+------+------+---------+------+------+------+-----+------+------------+\n",
            "|   CLAVE SITIO|     CLAVE MONITOREO|    NOMBRE DEL SITIO|TIPO DE CUERPO DE AGUA|    FECHA|ALC_FEN|ALC_TOT| CO3|HCO3|  OH|CLOROF_A|COLI_FEC|COLI_TOT|E_COLI| COT|COT_SOL|DBO_SOL|DBO_TOT|DQO_SOL|DQO_TOT|N_NH3|N_NO2|N_NO3|N_ORG|N_TOT|N_TOTK|TOX_D_48_UT|TOX_D_48_SUP_UT|TOX_D_48_FON_UT|TOX_FIS_SUP_15_UT|TOX_FIS_SUP_30_UT|TOX_FIS_SUP_5_UT|TOX_FIS_FON_15_UT|TOX_FIS_FON_30_UT|TOX_FIS_FON_5_UT|TOX_V_15_UT|TOX_V_30_UT|TOX_V_5_UT|P_TOT|PO4_TOT|ORTO_PO4|COLOR_VER|TRANSPARENCIA|ABS_UV|  SDT|CONDUC_CAMPO|CONDUC_CAMPO_SUP|CONDUC_CAMPO_MED|CONDUC_CAMPO_FON|pH_CAMPO|pH_CAMPO_SUP|pH_CAMPO_MED|pH_CAMPO_FON|SALINIDAD_SUP|SALINIDAD_MED|SALINIDAD_FON|OD_%|OD_mg/L|OD_%_SUP|OD_mg/L_SUP|OD_%_MED|OD_mg/L_MED|OD_%_FON|OD_mg/L_FON|1,1,1,2_TTCETA|1,1,2,2_TETRACLETAN|1,1,2_TCETA|1,1_DICLETILEN|1,2,4_TRICLBENCEN|1,2_DIBR_3_CLPROPAN|1,2_DICLETAN|1,2_DICLPROPAN|2_CEVE|ACRILONITRILO|ACROLEINA|AL_TOT|BA_TOT|BENCENO|BR_CLMET|BROMOMETANO|CIS_1,2_DICLETEN|CL_BENC|CL_METILENO|CLOROMETANO|CLORURO_DE_VINILO|CLORUROS_TOT|ENTEROC_FEC|ESTIRENO|ETILBENCENO|FE_TOT|FLUORUROS_TOT|K_TOT|METILTERBUTILETER_MTBE_|MN_TOT|NA_TOT|SAAM|SIO2|SO4_TOT| SST|SULFUROS_TOT|TALIO|TETRACL_CARB|TETRACLOROETILENO_|TOLUENO|TRANS_1,2_DICLOROETILENO|TRICLOROETILENO|TRICLOROFLUOROMETANO|TURBIEDAD|AS_TOT|CD_TOT|CR_TOT|HG_TOT|NI_TOT|PB_TOT|CN_TOT|CU_TOT|ZN_TOT|POT_REDOX_CAMPO|POT_REDOX_CAMPO_SUP|POT_REDOX_CAMPO_MED|POT_REDOX_CAMPO_FON|1,2_DICLBENC|1,3_DICLBEN|1,4_DICLBEN|DICLOROBENCENOS|BR_DICLMET|BROMOF|CLOROFORMO|DIBR_CLMET|THMs|M,P_XILENO|O_XILENO|XILEN_ISOMEROS|CA_TOT|MG_TOT|DUR_TOT|TEMP_AMB|TEMP_AGUA|TEMP_AGUA_SUP|TEMP_AGUA_MED|TEMP_AGUA_FON|TEMP_AGUA_0.5|TEMP_AGUA_1|TEMP_AGUA_2|TEMP_AGUA_3|TEMP_AGUA_4|TEMP_AGUA_5|TEMP_AGUA_6|TEMP_AGUA_7|TEMP_AGUA_8|TEMP_AGUA_9|TEMP_AGUA_10|TEMP_AGUA_11|TEMP_AGUA_12|TEMP_AGUA_13|TEMP_AGUA_14|TEMP_AGUA_15|TEMP_AGUA_16|TEMP_AGUA_17|TEMP_AGUA_18|TEMP_AGUA_19|TEMP_AGUA_20|TEMP_AGUA_21|TEMP_AGUA_22|TEMP_AGUA_23|TEMP_AGUA_24|TEMP_AGUA_25|TEMP_AGUA_26|TEMP_AGUA_27|TEMP_AGUA_28|TEMP_AGUA_29|TEMP_AGUA_30|TEMP_AGUA_31|TEMP_AGUA_32|TEMP_AGUA_33|TEMP_AGUA_34|TEMP_AGUA_35|TEMP_AGUA_36|TEMP_AGUA_37|TEMP_AGUA_38|TEMP_AGUA_39|PROFUNDIDAD|CAUDAL|CLORUROS_SOL|FLUORUROS_SOL|SO4_SOL|AS_SOL|CD_SOL|CR_SOL|FE_SOL|MN_SOL|HG_SOL|PB_SOL|ZN_SOL|AL_SOL|CU_SOL|TALIO_SOL|NI_SOL|CA_SOL|MG_SOL|K_SOL|NA_SOL|SULFUROS_SOL|\n",
            "+--------------+--------------------+--------------------+----------------------+---------+-------+-------+----+----+----+--------+--------+--------+------+----+-------+-------+-------+-------+-------+-----+-----+-----+-----+-----+------+-----------+---------------+---------------+-----------------+-----------------+----------------+-----------------+-----------------+----------------+-----------+-----------+----------+-----+-------+--------+---------+-------------+------+-----+------------+----------------+----------------+----------------+--------+------------+------------+------------+-------------+-------------+-------------+----+-------+--------+-----------+--------+-----------+--------+-----------+--------------+-------------------+-----------+--------------+-----------------+-------------------+------------+--------------+------+-------------+---------+------+------+-------+--------+-----------+----------------+-------+-----------+-----------+-----------------+------------+-----------+--------+-----------+------+-------------+-----+-----------------------+------+------+----+----+-------+----+------------+-----+------------+------------------+-------+------------------------+---------------+--------------------+---------+------+------+------+------+------+------+------+------+------+---------------+-------------------+-------------------+-------------------+------------+-----------+-----------+---------------+----------+------+----------+----------+----+----------+--------+--------------+------+------+-------+--------+---------+-------------+-------------+-------------+-------------+-----------+-----------+-----------+-----------+-----------+-----------+-----------+-----------+-----------+------------+------------+------------+------------+------------+------------+------------+------------+------------+------------+------------+------------+------------+------------+------------+------------+------------+------------+------------+------------+------------+------------+------------+------------+------------+------------+------------+------------+------------+------------+-----------+------+------------+-------------+-------+------+------+------+------+------+------+------+------+------+------+---------+------+------+------+-----+------+------------+\n",
            "|OCGNO0001RNL21|OCGNO0001RNL21-30...|CANAL AMERICANO E...|                L�TICO|4/30/2021|   null|   null|null|null|null|    null|    null|    null|  null|null|   null|   null|   null|   null|   null| null| null| null| null| null|  null|       null|           null|           null|             null|             null|            null|             null|             null|            null|       null|       null|      null| null|   null|    null|     null|         null|  null|15000|       23700|            null|            null|            null|    null|        null|        null|        null|         null|         null|         null|null|   null|    null|       null|    null|       null|    null|       null|          null|               null|       null|          null|             null|               null|        null|          null|  null|         null|     null|  null|  null|   null|    null|       null|            null|   null|       null|       null|             null|        null|       null|    null|       null|  null|         null| null|                   null|  null|  null|null|null|   null|null|        null| null|        null|              null|   null|                    null|           null|                null|     null|  null|  null|  null|  null|  null|  null|  null|  null|  null|           null|               null|               null|               null|        null|       null|       null|           null|      null|  null|      null|      null|null|      null|    null|          null|  null|  null|   null|    null|     28.4|         null|         null|         null|         null|       null|       null|       null|       null|       null|       null|       null|       null|       null|        null|        null|        null|        null|        null|        null|        null|        null|        null|        null|        null|        null|        null|        null|        null|        null|        null|        null|        null|        null|        null|        null|        null|        null|        null|        null|        null|        null|        null|        null|       2.07|  null|        null|         null|   null|  null|  null|  null|  null|  null|  null|  null|  null|  null|  null|     null|  null|  null|  null| null|  null|        null|\n",
            "|OCGNO0002RNL21|OCGNO0002RNL21-20...|LAGUNA DEL CHAIRE...|               L�NTICO|5/20/2021|   null|   null|null|null|null|    null|    null|    null|  null|null|   null|   null|   null|   null|   null| null| null| null| null| null|  null|       null|           null|           null|             null|             null|            null|             null|             null|            null|       null|       null|      null| null|   null|    null|     null|         null|  null| null|        null|            6430|            null|            6430|    null|        null|        null|        null|          <10|         null|          <10|null|   null|    null|       null|    null|       null|    null|       null|          null|               null|       null|          null|             null|               null|        null|          null|  null|         null|     null|  null|  null|   null|    null|       null|            null|   null|       null|       null|             null|        null|       null|    null|       null|  null|         null| null|                   null|  null|  null|null|null|   null|null|        null| null|        null|              null|   null|                    null|           null|                null|     null|  null|  null|  null|  null|  null|  null|  null|  null|  null|           null|               null|               null|               null|        null|       null|       null|           null|      null|  null|      null|      null|null|      null|    null|          null|  null|  null|   null|      26|     null|           29|         null|           29|         null|       null|       null|       null|       null|       null|       null|       null|       null|       null|        null|        null|        null|        null|        null|        null|        null|        null|        null|        null|        null|        null|        null|        null|        null|        null|        null|        null|        null|        null|        null|        null|        null|        null|        null|        null|        null|        null|        null|        null|        2.9|  null|        null|         null|   null|  null|  null|  null|  null|  null|  null|  null|  null|  null|  null|     null|  null|  null|  null| null|  null|        null|\n",
            "|OCGNO0003RNL21|OCGNO0003RNL21-20...|LAGUNA DEL CHAIRE...|               L�NTICO|5/20/2021|   null|   null|null|null|null|    null|    null|    null|  null|null|   null|   null|   null|   null|   null| null| null| null| null| null|  null|       null|           null|           null|             null|             null|            null|             null|             null|            null|       null|       null|      null| null|   null|    null|     null|         null|  null| null|        null|            6310|            null|            6420|    null|        null|        null|        null|          <10|         null|          <10|null|   null|    null|       null|    null|       null|    null|       null|          null|               null|       null|          null|             null|               null|        null|          null|  null|         null|     null|  null|  null|   null|    null|       null|            null|   null|       null|       null|             null|        null|       null|    null|       null|  null|         null| null|                   null|  null|  null|null|null|   null|null|        null| null|        null|              null|   null|                    null|           null|                null|     null|  null|  null|  null|  null|  null|  null|  null|  null|  null|           null|               null|               null|               null|        null|       null|       null|           null|      null|  null|      null|      null|null|      null|    null|          null|  null|  null|   null|      28|     null|           29|         null|           29|         null|       null|       null|       null|       null|       null|       null|       null|       null|       null|        null|        null|        null|        null|        null|        null|        null|        null|        null|        null|        null|        null|        null|        null|        null|        null|        null|        null|        null|        null|        null|        null|        null|        null|        null|        null|        null|        null|        null|        null|        1.8|  null|        null|         null|   null|  null|  null|  null|  null|  null|  null|  null|  null|  null|  null|     null|  null|  null|  null| null|  null|        null|\n",
            "|OCGNO0004RNL21|OCGNO0004RNL21-20...|CANAL CORONA, SAL...|                L�TICO|5/20/2021|   null|   null|null|null|null|    null|    null|    null|  null|null|   null|   null|   null|   null|   null| null| null| null| null| null|  null|       null|           null|           null|             null|             null|            null|             null|             null|            null|       null|       null|      null| null|   null|    null|     null|         null|  null| null|        6040|            null|            null|            null|    null|        null|        null|        null|         null|         null|         null|null|   null|    null|       null|    null|       null|    null|       null|          null|               null|       null|          null|             null|               null|        null|          null|  null|         null|     null|  null|  null|   null|    null|       null|            null|   null|       null|       null|             null|        null|       null|    null|       null|  null|         null| null|                   null|  null|  null|null|null|   null|null|        null| null|        null|              null|   null|                    null|           null|                null|     null|  null|  null|  null|  null|  null|  null|  null|  null|  null|           null|               null|               null|               null|        null|       null|       null|           null|      null|  null|      null|      null|null|      null|    null|          null|  null|  null|   null|      27|       29|         null|         null|         null|         null|       null|       null|       null|       null|       null|       null|       null|       null|       null|        null|        null|        null|        null|        null|        null|        null|        null|        null|        null|        null|        null|        null|        null|        null|        null|        null|        null|        null|        null|        null|        null|        null|        null|        null|        null|        null|        null|        null|        null|        2.7|  null|        null|         null|   null|  null|  null|  null|  null|  null|  null|  null|  null|  null|  null|     null|  null|  null|  null| null|  null|        null|\n",
            "|OCGNO0005RNL21|OCGNO0005RNL21-20...|CANAL CORONA, ENT...|                L�TICO|5/20/2021|   null|   null|null|null|null|    null|    null|    null|  null|null|   null|   null|   null|   null|   null| null| null| null| null| null|  null|       null|           null|           null|             null|             null|            null|             null|             null|            null|       null|       null|      null| null|   null|    null|     null|         null|  null| null|        5790|            null|            null|            null|    null|        null|        null|        null|         null|         null|         null|null|   null|    null|       null|    null|       null|    null|       null|          null|               null|       null|          null|             null|               null|        null|          null|  null|         null|     null|  null|  null|   null|    null|       null|            null|   null|       null|       null|             null|        null|       null|    null|       null|  null|         null| null|                   null|  null|  null|null|null|   null|null|        null| null|        null|              null|   null|                    null|           null|                null|     null|  null|  null|  null|  null|  null|  null|  null|  null|  null|           null|               null|               null|               null|        null|       null|       null|           null|      null|  null|      null|      null|null|      null|    null|          null|  null|  null|   null|      27|       29|         null|         null|         null|         null|       null|       null|       null|       null|       null|       null|       null|       null|       null|        null|        null|        null|        null|        null|        null|        null|        null|        null|        null|        null|        null|        null|        null|        null|        null|        null|        null|        null|        null|        null|        null|        null|        null|        null|        null|        null|        null|        null|        null|       2.85|  null|        null|         null|   null|  null|  null|  null|  null|  null|  null|  null|  null|  null|  null|     null|  null|  null|  null| null|  null|        null|\n",
            "|OCGNO0006RNL21|OCGNO0006RNL21-20...|LAGUNA DEL CHAIRE...|               L�NTICO|5/20/2021|   null|   null|null|null|null|    null|    null|    null|  null|null|   null|   null|   null|   null|   null| null| null| null| null| null|  null|       null|           null|           null|             null|             null|            null|             null|             null|            null|       null|       null|      null| null|   null|    null|     null|         null|  null| null|        null|            5830|            null|           10010|    null|        null|        null|        null|          <10|         null|          <10|null|   null|    null|       null|    null|       null|    null|       null|          null|               null|       null|          null|             null|               null|        null|          null|  null|         null|     null|  null|  null|   null|    null|       null|            null|   null|       null|       null|             null|        null|       null|    null|       null|  null|         null| null|                   null|  null|  null|null|null|   null|null|        null| null|        null|              null|   null|                    null|           null|                null|     null|  null|  null|  null|  null|  null|  null|  null|  null|  null|           null|               null|               null|               null|        null|       null|       null|           null|      null|  null|      null|      null|null|      null|    null|          null|  null|  null|   null|      30|     null|           29|         null|           29|         null|       null|       null|       null|       null|       null|       null|       null|       null|       null|        null|        null|        null|        null|        null|        null|        null|        null|        null|        null|        null|        null|        null|        null|        null|        null|        null|        null|        null|        null|        null|        null|        null|        null|        null|        null|        null|        null|        null|        null|        2.1|  null|        null|         null|   null|  null|  null|  null|  null|  null|  null|  null|  null|  null|  null|     null|  null|  null|  null| null|  null|        null|\n",
            "|OCGNO0007RNL21|OCGNO0007RNL21-20...|R�O TAMES� �FRENT...|                L�TICO|5/20/2021|   null|   null|null|null|null|    null|    null|    null|  null|null|   null|   null|   null|   null|   null| null| null| null| null| null|  null|       null|           null|           null|             null|             null|            null|             null|             null|            null|       null|       null|      null| null|   null|    null|     null|         null|  null| null|        5460|            null|            null|            null|    null|        null|        null|        null|         null|         null|         null|null|   null|    null|       null|    null|       null|    null|       null|          null|               null|       null|          null|             null|               null|        null|          null|  null|         null|     null|  null|  null|   null|    null|       null|            null|   null|       null|       null|             null|        null|       null|    null|       null|  null|         null| null|                   null|  null|  null|null|null|   null|null|        null| null|        null|              null|   null|                    null|           null|                null|     null|  null|  null|  null|  null|  null|  null|  null|  null|  null|           null|               null|               null|               null|        null|       null|       null|           null|      null|  null|      null|      null|null|      null|    null|          null|  null|  null|   null|      27|       30|         null|         null|         null|         null|       null|       null|       null|       null|       null|       null|       null|       null|       null|        null|        null|        null|        null|        null|        null|        null|        null|        null|        null|        null|        null|        null|        null|        null|        null|        null|        null|        null|        null|        null|        null|        null|        null|        null|        null|        null|        null|        null|        null|        2.9|  null|        null|         null|   null|  null|  null|  null|  null|  null|  null|  null|  null|  null|  null|     null|  null|  null|  null| null|  null|        null|\n",
            "|OCGNO0008RNL21|OCGNO0008RNL21-20...|R�O TAMES� �CRUZ ...|                L�TICO|5/20/2021|   null|   null|null|null|null|    null|    null|    null|  null|null|   null|   null|   null|   null|   null| null| null| null| null| null|  null|       null|           null|           null|             null|             null|            null|             null|             null|            null|       null|       null|      null| null|   null|    null|     null|         null|  null| null|        5000|            null|            null|            null|    null|        null|        null|        null|         null|         null|         null|null|   null|    null|       null|    null|       null|    null|       null|          null|               null|       null|          null|             null|               null|        null|          null|  null|         null|     null|  null|  null|   null|    null|       null|            null|   null|       null|       null|             null|        null|       null|    null|       null|  null|         null| null|                   null|  null|  null|null|null|   null|null|        null| null|        null|              null|   null|                    null|           null|                null|     null|  null|  null|  null|  null|  null|  null|  null|  null|  null|           null|               null|               null|               null|        null|       null|       null|           null|      null|  null|      null|      null|null|      null|    null|          null|  null|  null|   null|      28|       29|         null|         null|         null|         null|       null|       null|       null|       null|       null|       null|       null|       null|       null|        null|        null|        null|        null|        null|        null|        null|        null|        null|        null|        null|        null|        null|        null|        null|        null|        null|        null|        null|        null|        null|        null|        null|        null|        null|        null|        null|        null|        null|        null|        2.5|  null|        null|         null|   null|  null|  null|  null|  null|  null|  null|  null|  null|  null|  null|     null|  null|  null|  null| null|  null|        null|\n",
            "|OCGNO0009RNL21|OCGNO0009RNL21-20...|R�O TAMES�, CANAL...|                L�TICO|5/20/2021|   null|   null|null|null|null|    null|    null|    null|  null|null|   null|   null|   null|   null|   null| null| null| null| null| null|  null|       null|           null|           null|             null|             null|            null|             null|             null|            null|       null|       null|      null| null|   null|    null|     null|         null|  null| null|        4470|            null|            null|            null|    null|        null|        null|        null|         null|         null|         null|null|   null|    null|       null|    null|       null|    null|       null|          null|               null|       null|          null|             null|               null|        null|          null|  null|         null|     null|  null|  null|   null|    null|       null|            null|   null|       null|       null|             null|        null|       null|    null|       null|  null|         null| null|                   null|  null|  null|null|null|   null|null|        null| null|        null|              null|   null|                    null|           null|                null|     null|  null|  null|  null|  null|  null|  null|  null|  null|  null|           null|               null|               null|               null|        null|       null|       null|           null|      null|  null|      null|      null|null|      null|    null|          null|  null|  null|   null|      31|       29|         null|         null|         null|         null|       null|       null|       null|       null|       null|       null|       null|       null|       null|        null|        null|        null|        null|        null|        null|        null|        null|        null|        null|        null|        null|        null|        null|        null|        null|        null|        null|        null|        null|        null|        null|        null|        null|        null|        null|        null|        null|        null|        null|        3.8|  null|        null|         null|   null|  null|  null|  null|  null|  null|  null|  null|  null|  null|  null|     null|  null|  null|  null| null|  null|        null|\n",
            "|OCGNO0010RNL21|OCGNO0010RNL21-20...|R�O TAMES�, CRUZ ...|                L�TICO|5/20/2021|   null|   null|null|null|null|    null|    null|    null|  null|null|   null|   null|   null|   null|   null| null| null| null| null| null|  null|       null|           null|           null|             null|             null|            null|             null|             null|            null|       null|       null|      null| null|   null|    null|     null|         null|  null| null|        4220|            null|            null|            null|    null|        null|        null|        null|         null|         null|         null|null|   null|    null|       null|    null|       null|    null|       null|          null|               null|       null|          null|             null|               null|        null|          null|  null|         null|     null|  null|  null|   null|    null|       null|            null|   null|       null|       null|             null|        null|       null|    null|       null|  null|         null| null|                   null|  null|  null|null|null|   null|null|        null| null|        null|              null|   null|                    null|           null|                null|     null|  null|  null|  null|  null|  null|  null|  null|  null|  null|           null|               null|               null|               null|        null|       null|       null|           null|      null|  null|      null|      null|null|      null|    null|          null|  null|  null|   null|      31|       29|         null|         null|         null|         null|       null|       null|       null|       null|       null|       null|       null|       null|       null|        null|        null|        null|        null|        null|        null|        null|        null|        null|        null|        null|        null|        null|        null|        null|        null|        null|        null|        null|        null|        null|        null|        null|        null|        null|        null|        null|        null|        null|        null|        4.4|  null|        null|         null|   null|  null|  null|  null|  null|  null|  null|  null|  null|  null|  null|     null|  null|  null|  null| null|  null|        null|\n",
            "|OCGNO0011RNL21|OCGNO0011RNL21-20...|R�O TAMES�, CANAL...|                L�TICO|5/20/2021|   null|   null|null|null|null|    null|    null|    null|  null|null|   null|   null|   null|   null|   null| null| null| null| null| null|  null|       null|           null|           null|             null|             null|            null|             null|             null|            null|       null|       null|      null| null|   null|    null|     null|         null|  null| null|        3920|            null|            null|            null|    null|        null|        null|        null|         null|         null|         null|null|   null|    null|       null|    null|       null|    null|       null|          null|               null|       null|          null|             null|               null|        null|          null|  null|         null|     null|  null|  null|   null|    null|       null|            null|   null|       null|       null|             null|        null|       null|    null|       null|  null|         null| null|                   null|  null|  null|null|null|   null|null|        null| null|        null|              null|   null|                    null|           null|                null|     null|  null|  null|  null|  null|  null|  null|  null|  null|  null|           null|               null|               null|               null|        null|       null|       null|           null|      null|  null|      null|      null|null|      null|    null|          null|  null|  null|   null|      30|       29|         null|         null|         null|         null|       null|       null|       null|       null|       null|       null|       null|       null|       null|        null|        null|        null|        null|        null|        null|        null|        null|        null|        null|        null|        null|        null|        null|        null|        null|        null|        null|        null|        null|        null|        null|        null|        null|        null|        null|        null|        null|        null|        null|        3.4|  null|        null|         null|   null|  null|  null|  null|  null|  null|  null|  null|  null|  null|  null|     null|  null|  null|  null| null|  null|        null|\n",
            "|OCGNO0012RNL21|OCGNO0012RNL21-20...|R�O TAMES�, CONFL...|                L�TICO|5/20/2021|   null|   null|null|null|null|    null|    null|    null|  null|null|   null|   null|   null|   null|   null| null| null| null| null| null|  null|       null|           null|           null|             null|             null|            null|             null|             null|            null|       null|       null|      null| null|   null|    null|     null|         null|  null| null|        3390|            null|            null|            null|    null|        null|        null|        null|         null|         null|         null|null|   null|    null|       null|    null|       null|    null|       null|          null|               null|       null|          null|             null|               null|        null|          null|  null|         null|     null|  null|  null|   null|    null|       null|            null|   null|       null|       null|             null|        null|       null|    null|       null|  null|         null| null|                   null|  null|  null|null|null|   null|null|        null| null|        null|              null|   null|                    null|           null|                null|     null|  null|  null|  null|  null|  null|  null|  null|  null|  null|           null|               null|               null|               null|        null|       null|       null|           null|      null|  null|      null|      null|null|      null|    null|          null|  null|  null|   null|      29|       29|         null|         null|         null|         null|       null|       null|       null|       null|       null|       null|       null|       null|       null|        null|        null|        null|        null|        null|        null|        null|        null|        null|        null|        null|        null|        null|        null|        null|        null|        null|        null|        null|        null|        null|        null|        null|        null|        null|        null|        null|        null|        null|        null|        4.1|  null|        null|         null|   null|  null|  null|  null|  null|  null|  null|  null|  null|  null|  null|     null|  null|  null|  null| null|  null|        null|\n",
            "|OCGNO0013RNL21|OCGNO0013RNL21-20...|ESTERO CAMALOTE F...|                L�TICO|5/20/2021|   null|   null|null|null|null|    null|    null|    null|  null|null|   null|   null|   null|   null|   null| null| null| null| null| null|  null|       null|           null|           null|             null|             null|            null|             null|             null|            null|       null|       null|      null| null|   null|    null|     null|         null|  null| null|        5670|            null|            null|            null|    null|        null|        null|        null|         null|         null|         null|null|   null|    null|       null|    null|       null|    null|       null|          null|               null|       null|          null|             null|               null|        null|          null|  null|         null|     null|  null|  null|   null|    null|       null|            null|   null|       null|       null|             null|        null|       null|    null|       null|  null|         null| null|                   null|  null|  null|null|null|   null|null|        null| null|        null|              null|   null|                    null|           null|                null|     null|  null|  null|  null|  null|  null|  null|  null|  null|  null|           null|               null|               null|               null|        null|       null|       null|           null|      null|  null|      null|      null|null|      null|    null|          null|  null|  null|   null|      30|       29|         null|         null|         null|         null|       null|       null|       null|       null|       null|       null|       null|       null|       null|        null|        null|        null|        null|        null|        null|        null|        null|        null|        null|        null|        null|        null|        null|        null|        null|        null|        null|        null|        null|        null|        null|        null|        null|        null|        null|        null|        null|        null|        null|          2|  null|        null|         null|   null|  null|  null|  null|  null|  null|  null|  null|  null|  null|  null|     null|  null|  null|  null| null|  null|        null|\n",
            "|OCGNO0014RNL21|OCGNO0014RNL21-20...|ESTERO CAMALOTE F...|                L�TICO|5/20/2021|   null|   null|null|null|null|    null|    null|    null|  null|null|   null|   null|   null|   null|   null| null| null| null| null| null|  null|       null|           null|           null|             null|             null|            null|             null|             null|            null|       null|       null|      null| null|   null|    null|     null|         null|  null| null|       18500|            null|            null|            null|    null|        null|        null|        null|         null|         null|         null|null|   null|    null|       null|    null|       null|    null|       null|          null|               null|       null|          null|             null|               null|        null|          null|  null|         null|     null|  null|  null|   null|    null|       null|            null|   null|       null|       null|             null|        null|       null|    null|       null|  null|         null| null|                   null|  null|  null|null|null|   null|null|        null| null|        null|              null|   null|                    null|           null|                null|     null|  null|  null|  null|  null|  null|  null|  null|  null|  null|           null|               null|               null|               null|        null|       null|       null|           null|      null|  null|      null|      null|null|      null|    null|          null|  null|  null|   null|      31|       28|         null|         null|         null|         null|       null|       null|       null|       null|       null|       null|       null|       null|       null|        null|        null|        null|        null|        null|        null|        null|        null|        null|        null|        null|        null|        null|        null|        null|        null|        null|        null|        null|        null|        null|        null|        null|        null|        null|        null|        null|        null|        null|        null|        2.5|  null|        null|         null|   null|  null|  null|  null|  null|  null|  null|  null|  null|  null|  null|     null|  null|  null|  null| null|  null|        null|\n",
            "|OCGNO0015RNL21|OCGNO0015RNL21-20...|ESTERO CAMALOTE C...|                L�TICO|5/20/2021|   null|   null|null|null|null|    null|    null|    null|  null|null|   null|   null|   null|   null|   null| null| null| null| null| null|  null|       null|           null|           null|             null|             null|            null|             null|             null|            null|       null|       null|      null| null|   null|    null|     null|         null|  null| null|       20000|            null|            null|            null|    null|        null|        null|        null|         null|         null|         null|null|   null|    null|       null|    null|       null|    null|       null|          null|               null|       null|          null|             null|               null|        null|          null|  null|         null|     null|  null|  null|   null|    null|       null|            null|   null|       null|       null|             null|        null|       null|    null|       null|  null|         null| null|                   null|  null|  null|null|null|   null|null|        null| null|        null|              null|   null|                    null|           null|                null|     null|  null|  null|  null|  null|  null|  null|  null|  null|  null|           null|               null|               null|               null|        null|       null|       null|           null|      null|  null|      null|      null|null|      null|    null|          null|  null|  null|   null|      30|       28|         null|         null|         null|         null|       null|       null|       null|       null|       null|       null|       null|       null|       null|        null|        null|        null|        null|        null|        null|        null|        null|        null|        null|        null|        null|        null|        null|        null|        null|        null|        null|        null|        null|        null|        null|        null|        null|        null|        null|        null|        null|        null|        null|        0.7|  null|        null|         null|   null|  null|  null|  null|  null|  null|  null|  null|  null|  null|  null|     null|  null|  null|  null| null|  null|        null|\n",
            "|OCGNO0016RNL21|OCGNO0016RNL21-20...|ESTERO CAMALOTE F...|                L�TICO|5/20/2021|   null|   null|null|null|null|    null|    null|    null|  null|null|   null|   null|   null|   null|   null| null| null| null| null| null|  null|       null|           null|           null|             null|             null|            null|             null|             null|            null|       null|       null|      null| null|   null|    null|     null|         null|  null| null|       25900|            null|            null|            null|    null|        null|        null|        null|         null|         null|         null|null|   null|    null|       null|    null|       null|    null|       null|          null|               null|       null|          null|             null|               null|        null|          null|  null|         null|     null|  null|  null|   null|    null|       null|            null|   null|       null|       null|             null|        null|       null|    null|       null|  null|         null| null|                   null|  null|  null|null|null|   null|null|        null| null|        null|              null|   null|                    null|           null|                null|     null|  null|  null|  null|  null|  null|  null|  null|  null|  null|           null|               null|               null|               null|        null|       null|       null|           null|      null|  null|      null|      null|null|      null|    null|          null|  null|  null|   null|      30|       29|         null|         null|         null|         null|       null|       null|       null|       null|       null|       null|       null|       null|       null|        null|        null|        null|        null|        null|        null|        null|        null|        null|        null|        null|        null|        null|        null|        null|        null|        null|        null|        null|        null|        null|        null|        null|        null|        null|        null|        null|        null|        null|        null|        0.7|  null|        null|         null|   null|  null|  null|  null|  null|  null|  null|  null|  null|  null|  null|     null|  null|  null|  null| null|  null|        null|\n",
            "|OCGNO0017RNL21|OCGNO0017RNL21-30...|LAGUNA DEL CHAIRE...|               L�NTICO|4/30/2021|   null|   null|null|null|null|    null|    null|    null|  null|null|   null|   null|   null|   null|   null| null| null| null| null| null|  null|       null|           null|           null|             null|             null|            null|             null|             null|            null|       null|       null|      null| null|   null|    null|     null|         null|  null| 3610|        null|            6870|            null|            null|    null|        null|        null|        null|          <10|         null|         null|null|   null|    null|       null|    null|       null|    null|       null|          null|               null|       null|          null|             null|               null|        null|          null|  null|         null|     null|  null|  null|   null|    null|       null|            null|   null|       null|       null|             null|        null|       null|    null|       null|  null|         null| null|                   null|  null|  null|null|null|   null|null|        null| null|        null|              null|   null|                    null|           null|                null|     null|  null|  null|  null|  null|  null|  null|  null|  null|  null|           null|               null|               null|               null|        null|       null|       null|           null|      null|  null|      null|      null|null|      null|    null|          null|  null|  null|   null|    null|     null|         null|         null|         null|         null|       null|       null|       null|       null|       null|       null|       null|       null|       null|        null|        null|        null|        null|        null|        null|        null|        null|        null|        null|        null|        null|        null|        null|        null|        null|        null|        null|        null|        null|        null|        null|        null|        null|        null|        null|        null|        null|        null|        null|          3|  null|        null|         null|   null|  null|  null|  null|  null|  null|  null|  null|  null|  null|  null|     null|  null|  null|  null| null|  null|        null|\n",
            "|OCGNO0018RNL21|OCGNO0018RNL21-30...|ESCLUSA MATA LA M...|               L�NTICO|4/30/2021|   null|   null|null|null|null|    null|    null|    null|  null|null|   null|   null|   null|   null|   null| null| null| null| null| null|  null|       null|           null|           null|             null|             null|            null|             null|             null|            null|       null|       null|      null| null|   null|    null|     null|         null|  null|10560|        null|           18740|            null|            null|    null|        null|        null|        null|        10.93|         null|         null|null|   null|    null|       null|    null|       null|    null|       null|          null|               null|       null|          null|             null|               null|        null|          null|  null|         null|     null|  null|  null|   null|    null|       null|            null|   null|       null|       null|             null|        null|       null|    null|       null|  null|         null| null|                   null|  null|  null|null|null|   null|null|        null| null|        null|              null|   null|                    null|           null|                null|     null|  null|  null|  null|  null|  null|  null|  null|  null|  null|           null|               null|               null|               null|        null|       null|       null|           null|      null|  null|      null|      null|null|      null|    null|          null|  null|  null|   null|    null|     null|         28.3|         null|         null|         null|       null|       null|       null|       null|       null|       null|       null|       null|       null|        null|        null|        null|        null|        null|        null|        null|        null|        null|        null|        null|        null|        null|        null|        null|        null|        null|        null|        null|        null|        null|        null|        null|        null|        null|        null|        null|        null|        null|        null|        0.4|  null|        null|         null|   null|  null|  null|  null|  null|  null|  null|  null|  null|  null|  null|     null|  null|  null|  null| null|  null|        null|\n",
            "|OCGNO0019RNL21|OCGNO0019RNL21-30...|ESCLUSA MATA LA M...|               L�NTICO|4/30/2021|   null|   null|null|null|null|    null|    null|    null|  null|null|   null|   null|   null|   null|   null| null| null| null| null| null|  null|       null|           null|           null|             null|             null|            null|             null|             null|            null|       null|       null|      null| null|   null|    null|     null|         null|  null|20400|        null|           34100|            null|            null|    null|        null|        null|        null|         21.1|         null|         null|null|   null|    null|       null|    null|       null|    null|       null|          null|               null|       null|          null|             null|               null|        null|          null|  null|         null|     null|  null|  null|   null|    null|       null|            null|   null|       null|       null|             null|        null|       null|    null|       null|  null|         null| null|                   null|  null|  null|null|null|   null|null|        null| null|        null|              null|   null|                    null|           null|                null|     null|  null|  null|  null|  null|  null|  null|  null|  null|  null|           null|               null|               null|               null|        null|       null|       null|           null|      null|  null|      null|      null|null|      null|    null|          null|  null|  null|   null|    null|     null|         28.7|         null|         null|         null|       null|       null|       null|       null|       null|       null|       null|       null|       null|        null|        null|        null|        null|        null|        null|        null|        null|        null|        null|        null|        null|        null|        null|        null|        null|        null|        null|        null|        null|        null|        null|        null|        null|        null|        null|        null|        null|        null|        null|       null|  null|        null|         null|   null|  null|  null|  null|  null|  null|  null|  null|  null|  null|  null|     null|  null|  null|  null| null|  null|        null|\n",
            "|OCGNO0020RNL21|OCGNO0020RNL21-30...|ESTERO CAMALOTE F...|               L�NTICO|4/30/2021|   null|   null|null|null|null|    null|    null|    null|  null|null|   null|   null|   null|   null|   null| null| null| null| null| null|  null|       null|           null|           null|             null|             null|            null|             null|             null|            null|       null|       null|      null| null|   null|    null|     null|         null|  null|11990|        null|           21050|            null|           26450|    null|        null|        null|        null|        12.39|         null|         16.3|null|   null|    null|       null|    null|       null|    null|       null|          null|               null|       null|          null|             null|               null|        null|          null|  null|         null|     null|  null|  null|   null|    null|       null|            null|   null|       null|       null|             null|        null|       null|    null|       null|  null|         null| null|                   null|  null|  null|null|null|   null|null|        null| null|        null|              null|   null|                    null|           null|                null|     null|  null|  null|  null|  null|  null|  null|  null|  null|  null|           null|               null|               null|               null|        null|       null|       null|           null|      null|  null|      null|      null|null|      null|    null|          null|  null|  null|   null|    null|     null|         27.8|         null|         28.5|         null|       null|       null|       null|       null|       null|       null|       null|       null|       null|        null|        null|        null|        null|        null|        null|        null|        null|        null|        null|        null|        null|        null|        null|        null|        null|        null|        null|        null|        null|        null|        null|        null|        null|        null|        null|        null|        null|        null|        null|       1.65|  null|        null|         null|   null|  null|  null|  null|  null|  null|  null|  null|  null|  null|  null|     null|  null|  null|  null| null|  null|        null|\n",
            "+--------------+--------------------+--------------------+----------------------+---------+-------+-------+----+----+----+--------+--------+--------+------+----+-------+-------+-------+-------+-------+-----+-----+-----+-----+-----+------+-----------+---------------+---------------+-----------------+-----------------+----------------+-----------------+-----------------+----------------+-----------+-----------+----------+-----+-------+--------+---------+-------------+------+-----+------------+----------------+----------------+----------------+--------+------------+------------+------------+-------------+-------------+-------------+----+-------+--------+-----------+--------+-----------+--------+-----------+--------------+-------------------+-----------+--------------+-----------------+-------------------+------------+--------------+------+-------------+---------+------+------+-------+--------+-----------+----------------+-------+-----------+-----------+-----------------+------------+-----------+--------+-----------+------+-------------+-----+-----------------------+------+------+----+----+-------+----+------------+-----+------------+------------------+-------+------------------------+---------------+--------------------+---------+------+------+------+------+------+------+------+------+------+---------------+-------------------+-------------------+-------------------+------------+-----------+-----------+---------------+----------+------+----------+----------+----+----------+--------+--------------+------+------+-------+--------+---------+-------------+-------------+-------------+-------------+-----------+-----------+-----------+-----------+-----------+-----------+-----------+-----------+-----------+------------+------------+------------+------------+------------+------------+------------+------------+------------+------------+------------+------------+------------+------------+------------+------------+------------+------------+------------+------------+------------+------------+------------+------------+------------+------------+------------+------------+------------+------------+-----------+------+------------+-------------+-------+------+------+------+------+------+------+------+------+------+------+---------+------+------+------+-----+------+------------+\n",
            "only showing top 20 rows\n",
            "\n"
          ]
        }
      ],
      "source": [
        "DB_SWQ = spark.read.option(\"header\",True).csv(f\"/content/data/SurfaceWaterQuality.csv\")\n",
        "DB_SWQ_Q = DB_SWQ.select('CLAVE','SITIO','ESTADO', 'TOX_D_48_UT', 'CALIDAD_TOX_D_48')\n",
        "DB_cotton = spark.read.option(\"header\",True).csv(f\"/content/data/CottonYield_1980-2020.csv\")\n",
        "DB_Cotton_Q = DB_cotton.select('Ano','Estado','Ciclo', 'Modalidad', 'Producccion','Superficie')\n",
        "DB_ToxChi = spark.read.option(\"header\",True).csv(f\"/content/data/toxicityData/chihuahua_data.csv\")\n",
        "DB_ToxChi_Q = DB_ToxChi.select()\n",
        "DB_ToxCoa = spark.read.option(\"header\",True).csv(f\"/content/data/toxicityData/coahuila_data.csv\")\n",
        "DB_ToxDur = spark.read.option(\"header\",True).csv(f\"/content/data/toxicityData/durango_data.csv\")\n",
        "DB_ToxNL = spark.read.option(\"header\",True).csv(f\"/content/data/toxicityData/nuevoleon_data.csv\")\n",
        "DB_ToxSin = spark.read.option(\"header\",True).csv(f\"/content/data/toxicityData/sinaloa_data.csv\")\n",
        "DB_ToxSon = spark.read.option(\"header\",True).csv(f\"/content/data/toxicityData/sonora_data.csv\")\n",
        "DB_ToxTam = spark.read.option(\"header\",True).csv(f\"/content/data/toxicityData/tamaulipas_data.csv\")\n",
        "DB_ToxTam.show()"
      ]
    },
    {
      "cell_type": "markdown",
      "source": [
        "# Whatevs"
      ],
      "metadata": {
        "id": "uqMDEY6cbIGg"
      }
    }
  ],
  "metadata": {
    "colab": {
      "collapsed_sections": [],
      "provenance": []
    },
    "kernelspec": {
      "display_name": "Python 3",
      "name": "python3"
    },
    "language_info": {
      "name": "python"
    }
  },
  "nbformat": 4,
  "nbformat_minor": 0
}